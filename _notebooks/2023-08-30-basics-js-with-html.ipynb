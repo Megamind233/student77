{
 "cells": [
  {
   "cell_type": "markdown",
   "metadata": {},
   "source": [
    "---\n",
    "title: Using Javascript with HTML DOM\n",
    "hide: True\n",
    "description: A Tech Talk on how javascript can interact with HTML DOM\n",
    "type: ccc\n",
    "permalink: /basics/dom\n",
    "author: Rohan Juneja\n",
    "courses: {csp: { week: 5 } }\n",
    "comments: True\n",
    "\n",
    "---"
   ]
  },
  {
   "cell_type": "raw",
   "metadata": {},
   "source": [
    "{% include nav_basics.html %}\n"
   ]
  },
  {
   "cell_type": "markdown",
   "metadata": {},
   "source": [
    "# Hacks\n",
    "- Copy your HTML code from the HTML hacks. Write a Javascript snippet to switch the links of the two a tags when a button is pressed. Once they are switched, change the inner HTML of the top p tag to the word \"switched!\""
   ]
  },
  {
   "cell_type": "code",
   "execution_count": 1,
   "metadata": {
    "vscode": {
     "languageId": "html"
    }
   },
   "outputs": [
    {
     "data": {
      "text/html": [
       "<!-- html code goes here (make sure to run) -->\n",
       "\n",
       "<div>\n",
       "  <t>About Myself</t>\n",
       "  <p id=\"intro\">Hi I'm Saathvik Gampa, an aspiring computer science developer! I am 15 years old and go to Del Norte High. I am currently in my Sophomore year in high school challenging myself with 3 AP courses. Here are more facts about me:</p>\n",
       "  <strong>Here is my GitHub if you want to see what I'm working on so far!</strong>\n",
       "  <a id=\"githubLink\" href=\"https://github.com/sgtech08\">\n",
       "      <button>GitHub</button>\n",
       "  </a>\n",
       "  <button onclick=\"switchLinks()\">Switch Links</button>\n",
       "</div>\n",
       "<br>\n",
       "<br>\n",
       "<div>\n",
       "  <h3>Here are my passions</h3>\n",
       "  <a id=\"cryptoLink\" href=\"https://www.google.com/search?q=crypto+p&sourceid=chrome&ie=UTF-8\"> Trading Crypto</a>\n",
       "  <h3>Here is my Instagram</h3>\n",
       "  <a id=\"instaLink\" href=\"https://www.instagram.com/saathvikg08/\">Instagram</a>\n",
       "  <p id=\"passionDescription\">Right now my idea of my passion project is going to be a crypto niche with some sneakers and watches incorporated. If I can learn how, I would like to do a website where you can place orders with crypto and it validates the transaction. Later I get the notification that an order has arrived to purchase their items from my supplier and ship it out to them.</p>\n",
       "</div>\n",
       "\n",
       "<script>\n",
       "  function switchLinks() {\n",
       "      // Get the anchor elements\n",
       "      let cryptoLink = document.getElementById(\"cryptoLink\");\n",
       "      let instaLink = document.getElementById(\"instaLink\");\n",
       "      \n",
       "      // Swap their href attributes\n",
       "      let temp = cryptoLink.href;\n",
       "      cryptoLink.href = instaLink.href;\n",
       "      instaLink.href = temp;\n",
       "      \n",
       "      // Change the inner HTML of the top p tag\n",
       "      document.getElementById(\"intro\").innerHTML = \"Switched!\";\n",
       "  }\n",
       "</script>\n"
      ],
      "text/plain": [
       "<IPython.core.display.HTML object>"
      ]
     },
     "metadata": {},
     "output_type": "display_data"
    }
   ],
   "source": [
    "%%html\n",
    "<!-- html code goes here (make sure to run) -->\n",
    "\n",
    "<div>\n",
    "  <t>About Myself</t>\n",
    "  <p id=\"intro\">Hi I'm Saathvik Gampa, an aspiring computer science developer! I am 15 years old and go to Del Norte High. I am currently in my Sophomore year in high school challenging myself with 3 AP courses. Here are more facts about me:</p>\n",
    "  <strong>Here is my GitHub if you want to see what I'm working on so far!</strong>\n",
    "  <a id=\"githubLink\" href=\"https://github.com/sgtech08\">\n",
    "      <button>GitHub</button>\n",
    "  </a>\n",
    "  <button onclick=\"switchLinks()\">Switch Links</button>\n",
    "</div>\n",
    "<br>\n",
    "<br>\n",
    "<div>\n",
    "  <h3>Here are my passions</h3>\n",
    "  <a id=\"cryptoLink\" href=\"https://www.google.com/search?q=crypto+p&sourceid=chrome&ie=UTF-8\"> Trading Crypto</a>\n",
    "  <h3>Here is my Instagram</h3>\n",
    "  <a id=\"instaLink\" href=\"https://www.instagram.com/saathvikg08/\">Instagram</a>\n",
    "  <p id=\"passionDescription\">Right now my idea of my passion project is going to be a crypto niche with some sneakers and watches incorporated. If I can learn how, I would like to do a website where you can place orders with crypto and it validates the transaction. Later I get the notification that an order has arrived to purchase their items from my supplier and ship it out to them.</p>\n",
    "</div>\n",
    "\n",
    "<script>\n",
    "  function switchLinks() {\n",
    "      // Get the anchor elements\n",
    "      let cryptoLink = document.getElementById(\"cryptoLink\");\n",
    "      let instaLink = document.getElementById(\"instaLink\");\n",
    "      \n",
    "      // Swap their href attributes\n",
    "      let temp = cryptoLink.href;\n",
    "      cryptoLink.href = instaLink.href;\n",
    "      instaLink.href = temp;\n",
    "      \n",
    "      // Change the inner HTML of the top p tag\n",
    "      document.getElementById(\"intro\").innerHTML = \"Switched!\";\n",
    "  }\n",
    "</script>\n"
   ]
  }
 ],
 "metadata": {
  "kernelspec": {
   "display_name": "Python 3",
   "language": "python",
   "name": "python3"
  },
  "language_info": {
   "codemirror_mode": {
    "name": "ipython",
    "version": 3
   },
   "file_extension": ".py",
   "mimetype": "text/x-python",
   "name": "python",
   "nbconvert_exporter": "python",
   "pygments_lexer": "ipython3",
   "version": "3.11.4"
  },
  "orig_nbformat": 4
 },
 "nbformat": 4,
 "nbformat_minor": 2
}
