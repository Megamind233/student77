{
 "cells": [
  {
   "cell_type": "markdown",
   "id": "eb8dcc2b",
   "metadata": {},
   "source": [
    "---\n",
    "layout: post\n",
    "title: Team Test\n",
    "description: Team Test explanation\n",
    "toc: True\n",
    "comments: False\n",
    "categories: ['5.A', 'C4.1']\n",
    "courses: {'csse': {'week': 1}, 'csp': {'week': 4, 'categories': ['6.B']}, 'csa': {'week': 1}}\n",
    "type: tangibls\n",
    "---"
   ]
  }
 ],
 "metadata": {
  "kernelspec": {
   "display_name": "Python 3 (ipykernel)",
   "language": "python",
   "name": "python3"
  },
  "language_info": {
   "codemirror_mode": {
    "name": "ipython",
    "version": 3
   },
   "file_extension": ".py",
   "mimetype": "text/x-python",
   "name": "python",
   "nbconvert_exporter": "python",
   "pygments_lexer": "ipython3",
   "version": "3.11.4"
  }
 },
 "nbformat": 4,
 "nbformat_minor": 5
}
