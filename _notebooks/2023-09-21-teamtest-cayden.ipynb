{
 "cells": [
  {
   "cell_type": "markdown",
   "metadata": {},
   "source": [
    "---\n",
    "toc: false\n",
    "comments: false\n",
    "layout: post\n",
    "title: Team Test Showcase - cayden\n",
    "description: For Presentation\n",
    "type: tangibles\n",
    "courses: { compsci: {week: 4} }\n",
    "---"
   ]
  },
  {
   "cell_type": "markdown",
   "metadata": {},
   "source": [
    "Mathematical Program"
   ]
  },
  {
   "cell_type": "code",
   "execution_count": 4,
   "metadata": {},
   "outputs": [
    {
     "name": "stdout",
     "output_type": "stream",
     "text": [
      "Hello, welcome to the calculator!\n",
      "Choose one number: 3\n",
      "Choose another number: 2\n",
      "Please enter an operator (+, -, *, /): +\n",
      "5\n"
     ]
    }
   ],
   "source": [
    "print(\"Hello, welcome to the calculator!\") #introduce user to calculator\n",
    "\n",
    "while True: #if user does not input any incorrect syntax: \n",
    "    try: #if true, try: \n",
    "        firstnum = int(input(\"Choose one number: \")) #ask user for 1 number \n",
    "        secondnum = int(input(\"Choose another number: \")) #ask user for another number \n",
    "        operation = input(\"Please enter an operator (+, -, *, /): \") #ask what operator user wants to use \n",
    "\n",
    "        if operation not in (\"+\", \"-\", \"*\", \"/\"): #if user inputs incorrect operator: \n",
    "            print(\"Please enter a valid operator (+, -, *, /).\")\n",
    "            continue  \n",
    "\n",
    "        if operation == \"+\": #based on what operator user inputs, \n",
    "            print(firstnum + secondnum) #add firstnum and secondnum \n",
    "        elif operation == \"-\": \n",
    "            print(firstnum - secondnum) #subtract firstnum and secondnum\n",
    "        elif operation == \"/\":\n",
    "            if secondnum == 0: \n",
    "                print(\"Division by zero is not allowed.\") #output error text if dividing by 0 \n",
    "            else:\n",
    "                print(firstnum / secondnum) #divide firstnum and secondnum \n",
    "        elif operation == \"*\":\n",
    "            print(firstnum * secondnum) #multiply firstnum and secondnum \n",
    "        break  \n",
    "\n",
    "    except ValueError: #if user does not input correct syntax for firstnum and secondnum \n",
    "        print(\"Please enter valid numbers.\")"
   ]
  },
  {
   "cell_type": "markdown",
   "metadata": {},
   "source": [
    "Chatgpt Improved Code"
   ]
  },
  {
   "cell_type": "code",
   "execution_count": 3,
   "metadata": {},
   "outputs": [
    {
     "name": "stdout",
     "output_type": "stream",
     "text": [
      "Is Mr. Mort the best teacher ever?yes\n",
      "You are correct.\n"
     ]
    }
   ],
   "source": [
    "# Improved chatgpt code:  \n",
    "# Prompt the user for input and strip any leading/trailing whitespace\n",
    "var1 = input(\"Is Mr. Mort the best teacher ever?\").strip().lower()\n",
    "\n",
    "# Use a dictionary to store the responses\n",
    "responses = {\n",
    "    \"yes\": \"You are correct.\",\n",
    "    \"no\": \"You are wrong.\",\n",
    "}\n",
    "\n",
    "# Check if the user's input is a valid key in the responses dictionary\n",
    "if var1 in responses:\n",
    "    print(responses[var1])\n",
    "else:\n",
    "    print(\"Please enter a valid response (yes or no).\")\n"
   ]
  },
  {
   "cell_type": "markdown",
   "metadata": {},
   "source": [
    "## Final Project!\n",
    "### Recipe book manager\n"
   ]
  },
  {
   "cell_type": "code",
   "execution_count": 1,
   "metadata": {},
   "outputs": [
    {
     "name": "stdout",
     "output_type": "stream",
     "text": [
      "\n",
      "Welcome to the Recipe Book Manager\n",
      "Select your action\n",
      "A: Add a recipe \n",
      "B. View a Recipe \n",
      "C. Delete a Recipe \n",
      "D. Exit\n"
     ]
    },
    {
     "ename": "KeyboardInterrupt",
     "evalue": "Interrupted by user",
     "output_type": "error",
     "traceback": [
      "\u001b[0;31m---------------------------------------------------------------------------\u001b[0m",
      "\u001b[0;31mKeyboardInterrupt\u001b[0m                         Traceback (most recent call last)",
      "Cell \u001b[0;32mIn[1], line 43\u001b[0m\n\u001b[1;32m     40\u001b[0m \u001b[38;5;28mprint\u001b[39m(\u001b[38;5;124m\"\u001b[39m\u001b[38;5;124mSelect your action\u001b[39m\u001b[38;5;124m\"\u001b[39m)\n\u001b[1;32m     41\u001b[0m \u001b[38;5;28mprint\u001b[39m(\u001b[38;5;124m\"\u001b[39m\u001b[38;5;124mA: Add a recipe \u001b[39m\u001b[38;5;130;01m\\n\u001b[39;00m\u001b[38;5;124mB. View a Recipe \u001b[39m\u001b[38;5;130;01m\\n\u001b[39;00m\u001b[38;5;124mC. Delete a Recipe \u001b[39m\u001b[38;5;130;01m\\n\u001b[39;00m\u001b[38;5;124mD. Exit\u001b[39m\u001b[38;5;124m\"\u001b[39m)\n\u001b[0;32m---> 43\u001b[0m choice \u001b[38;5;241m=\u001b[39m \u001b[38;5;28minput\u001b[39m(\u001b[38;5;124m\"\u001b[39m\u001b[38;5;124mYour Choice: \u001b[39m\u001b[38;5;124m\"\u001b[39m)\u001b[38;5;241m.\u001b[39mupper()\n\u001b[1;32m     45\u001b[0m \u001b[38;5;66;03m# Add a new recipe\u001b[39;00m\n\u001b[1;32m     46\u001b[0m \u001b[38;5;28;01mif\u001b[39;00m choice \u001b[38;5;241m==\u001b[39m \u001b[38;5;124m\"\u001b[39m\u001b[38;5;124mA\u001b[39m\u001b[38;5;124m\"\u001b[39m:\n",
      "File \u001b[0;32m~/anaconda3/lib/python3.11/site-packages/ipykernel/kernelbase.py:1175\u001b[0m, in \u001b[0;36mKernel.raw_input\u001b[0;34m(self, prompt)\u001b[0m\n\u001b[1;32m   1171\u001b[0m \u001b[38;5;28;01mif\u001b[39;00m \u001b[38;5;129;01mnot\u001b[39;00m \u001b[38;5;28mself\u001b[39m\u001b[38;5;241m.\u001b[39m_allow_stdin:\n\u001b[1;32m   1172\u001b[0m     \u001b[38;5;28;01mraise\u001b[39;00m StdinNotImplementedError(\n\u001b[1;32m   1173\u001b[0m         \u001b[38;5;124m\"\u001b[39m\u001b[38;5;124mraw_input was called, but this frontend does not support input requests.\u001b[39m\u001b[38;5;124m\"\u001b[39m\n\u001b[1;32m   1174\u001b[0m     )\n\u001b[0;32m-> 1175\u001b[0m \u001b[38;5;28;01mreturn\u001b[39;00m \u001b[38;5;28mself\u001b[39m\u001b[38;5;241m.\u001b[39m_input_request(\n\u001b[1;32m   1176\u001b[0m     \u001b[38;5;28mstr\u001b[39m(prompt),\n\u001b[1;32m   1177\u001b[0m     \u001b[38;5;28mself\u001b[39m\u001b[38;5;241m.\u001b[39m_parent_ident[\u001b[38;5;124m\"\u001b[39m\u001b[38;5;124mshell\u001b[39m\u001b[38;5;124m\"\u001b[39m],\n\u001b[1;32m   1178\u001b[0m     \u001b[38;5;28mself\u001b[39m\u001b[38;5;241m.\u001b[39mget_parent(\u001b[38;5;124m\"\u001b[39m\u001b[38;5;124mshell\u001b[39m\u001b[38;5;124m\"\u001b[39m),\n\u001b[1;32m   1179\u001b[0m     password\u001b[38;5;241m=\u001b[39m\u001b[38;5;28;01mFalse\u001b[39;00m,\n\u001b[1;32m   1180\u001b[0m )\n",
      "File \u001b[0;32m~/anaconda3/lib/python3.11/site-packages/ipykernel/kernelbase.py:1217\u001b[0m, in \u001b[0;36mKernel._input_request\u001b[0;34m(self, prompt, ident, parent, password)\u001b[0m\n\u001b[1;32m   1214\u001b[0m             \u001b[38;5;28;01mbreak\u001b[39;00m\n\u001b[1;32m   1215\u001b[0m \u001b[38;5;28;01mexcept\u001b[39;00m \u001b[38;5;167;01mKeyboardInterrupt\u001b[39;00m:\n\u001b[1;32m   1216\u001b[0m     \u001b[38;5;66;03m# re-raise KeyboardInterrupt, to truncate traceback\u001b[39;00m\n\u001b[0;32m-> 1217\u001b[0m     \u001b[38;5;28;01mraise\u001b[39;00m \u001b[38;5;167;01mKeyboardInterrupt\u001b[39;00m(\u001b[38;5;124m\"\u001b[39m\u001b[38;5;124mInterrupted by user\u001b[39m\u001b[38;5;124m\"\u001b[39m) \u001b[38;5;28;01mfrom\u001b[39;00m \u001b[38;5;28;01mNone\u001b[39;00m\n\u001b[1;32m   1218\u001b[0m \u001b[38;5;28;01mexcept\u001b[39;00m \u001b[38;5;167;01mException\u001b[39;00m:\n\u001b[1;32m   1219\u001b[0m     \u001b[38;5;28mself\u001b[39m\u001b[38;5;241m.\u001b[39mlog\u001b[38;5;241m.\u001b[39mwarning(\u001b[38;5;124m\"\u001b[39m\u001b[38;5;124mInvalid Message:\u001b[39m\u001b[38;5;124m\"\u001b[39m, exc_info\u001b[38;5;241m=\u001b[39m\u001b[38;5;28;01mTrue\u001b[39;00m)\n",
      "\u001b[0;31mKeyboardInterrupt\u001b[0m: Interrupted by user"
     ]
    }
   ],
   "source": [
    "# Define the Recipe class to store details about a recipe\n",
    "class Recipe:\n",
    "    # Constructor to initialize a Recipe object\n",
    "    def __init__(self, name, ingredients, instructions):\n",
    "        self.name = name\n",
    "        self.ingredients = ingredients\n",
    "        self.instructions = instructions\n",
    "\n",
    "    # Method to display the recipe details\n",
    "    def display(self):\n",
    "        print(f\"Recipe Name: {self.name}\")\n",
    "        print(\"\\nIngredients:\")\n",
    "        for ingredient in self.ingredients:\n",
    "            print(f\"- {ingredient}\")\n",
    "        print(\"\\nInstructions:\")\n",
    "        for instruction in self.instructions:\n",
    "            print(f\"- {instruction}\")\n",
    "\n",
    "# Function to search for a recipe by name from a list of recipes\n",
    "def find_recipe(name, recipes):\n",
    "    for recipe in recipes:\n",
    "        if recipe.name.lower() == name.lower():\n",
    "            return recipe\n",
    "    return None\n",
    "\n",
    "# Function to delete a recipe by name from a list of recipes\n",
    "def delete_recipe(name, recipes):\n",
    "    for index, recipe in enumerate(recipes):\n",
    "        if recipe.name.lower() == name.lower():\n",
    "            del recipes[index]\n",
    "            return True\n",
    "    return False\n",
    "\n",
    "# List to store all the recipes\n",
    "recipes = []\n",
    "\n",
    "# Main loop for the Recipe Book Manager\n",
    "while True:\n",
    "    print(\"\\nWelcome to the Recipe Book Manager\")\n",
    "    print(\"Select your action\")\n",
    "    print(\"A: Add a recipe \\nB. View a Recipe \\nC. Delete a Recipe \\nD. Exit\")\n",
    "\n",
    "    choice = input(\"Your Choice: \").upper()\n",
    "\n",
    "    # Add a new recipe\n",
    "    if choice == \"A\":\n",
    "        recipe_name = input(\"Enter the name of the recipe: \")\n",
    "\n",
    "        ingredients = []\n",
    "        while True:\n",
    "            ingredient = input(\"Add an ingredient (or type 'done' to finish): \")\n",
    "            if ingredient.lower() == 'done':\n",
    "                break\n",
    "            ingredients.append(ingredient)\n",
    "\n",
    "        instructions = []\n",
    "        while True:\n",
    "            instruction = input(\"Enter the process/instructions for the recipe (Type 'done' to finish): \")\n",
    "            if instruction.lower() == \"done\":\n",
    "                break\n",
    "            instructions.append(instruction)\n",
    "\n",
    "        new_recipe = Recipe(recipe_name, ingredients, instructions)\n",
    "        recipes.append(new_recipe)\n",
    "        print(\"Recipe added successfully!\")\n",
    "        new_recipe.display()\n",
    "\n",
    "    # View a specific recipe\n",
    "    elif choice == \"B\":\n",
    "        recipe_name = input(\"Enter the name of the recipe you want to view: \")\n",
    "        recipe = find_recipe(recipe_name, recipes)\n",
    "        if recipe:\n",
    "            recipe.display()\n",
    "        else:\n",
    "            print(\"Recipe not found!\")\n",
    "\n",
    "    # Edit or Delete a specific recipe\n",
    "    elif choice == \"C\":\n",
    "        action = input(\"Would you like to Edit (E) or Delete (D) a recipe? \").upper()\n",
    "\n",
    "        if action == \"D\":\n",
    "            recipe_name = input(\"Enter the name of the recipe you want to delete: \")\n",
    "            if delete_recipe(recipe_name, recipes):\n",
    "                print(\"Recipe deleted successfully!\")\n",
    "            else:\n",
    "                print(\"Recipe not found!\")\n",
    "\n",
    "    # Exit the Recipe Book Manager\n",
    "    elif choice == \"D\":\n",
    "        print(\"Goodbye!\")\n",
    "        break\n"
   ]
  },
  {
   "cell_type": "code",
   "execution_count": null,
   "metadata": {},
   "outputs": [],
   "source": []
  }
 ],
 "metadata": {
  "kernelspec": {
   "display_name": "Python 3 (ipykernel)",
   "language": "python",
   "name": "python3"
  },
  "language_info": {
   "codemirror_mode": {
    "name": "ipython",
    "version": 3
   },
   "file_extension": ".py",
   "mimetype": "text/x-python",
   "name": "python",
   "nbconvert_exporter": "python",
   "pygments_lexer": "ipython3",
   "version": "3.11.4"
  }
 },
 "nbformat": 4,
 "nbformat_minor": 2
}
