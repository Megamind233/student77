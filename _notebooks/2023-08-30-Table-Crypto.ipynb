{
 "cells": [
  {
   "cell_type": "markdown",
   "id": "8ebd40d1",
   "metadata": {},
   "source": [
    "---\n",
    "layout: post\n",
    "title: JS Output w/ jquery\n",
    "description: Tables in Markdown\n",
    "toc: true\n",
    "comments: true\n",
    "categories: [5.A, C4.1]\n",
    "courses: { csse: {week: 1}, csp: {week: 2, categories: [6.B]}, csa: {week: 1} }\n",
    "type: hacks\n",
    "---"
   ]
  },
  {
   "cell_type": "markdown",
   "id": "d863fd82",
   "metadata": {},
   "source": [
    "## Table in Mark Down with my interests :)\n",
    "\n"
   ]
  },
  {
   "cell_type": "markdown",
   "id": "f938461b",
   "metadata": {},
   "source": [
    "| Rank | Cryptocurrency    | Price (USD) | Market Cap (USD) | Circulating Supply | Change (24h) |\n",
    "|------|-------------------|-------------|------------------|--------------------|--------------|\n",
    "| 1    | Bitcoin (BTC)     | $45,678.12  | $859,283,294,651 | 18,819,362 BTC     | +2.34%       |\n",
    "| 2    | Ethereum (ETH)    | $3,190.87   | $374,890,237,589 | 117,444,845 ETH    | -0.78%       |\n",
    "| 3    | Binance Coin (BNB)| $414.89     | $70,457,392,134  | 169,205,992 BNB    | +1.12%       |\n",
    "| 4    | Solana (SOL)      | $158.45     | $46,572,894,785  | 293,833,221 SOL    | +3.89%       |\n",
    "| 5    | Cardano (ADA)     | $2.75       | $89,798,524,227  | 32,917,071,000 ADA| -1.22%       |\n",
    "| 6    | XRP (XRP)         | $1.05       | $48,857,278,889  | 46,710,161,940 XRP| +0.45%       |\n",
    "| 7    | Polkadot (DOT)    | $33.74      | $35,054,067,590  | 1,039,688,588 DOT | +2.87%       |\n",
    "| 8    | Dogecoin (DOGE)   | $0.2855     | $37,328,978,178  | 130,881,810,427 DOGE| -0.18%      |\n",
    "| 9    | USD Coin (USDC)   | $1.00       | $32,388,727,935  | 32,379,230,779 USDC| -0.01%       |\n",
    "| 10   | Terra (LUNA)      | $37.91      | $15,498,137,483  | 408,021,073 LUNA  | +3.56%       |\n"
   ]
  },
  {
   "cell_type": "markdown",
   "id": "41b119aa",
   "metadata": {},
   "source": [
    "<head>\n",
    "<meta charset=\"UTF-8\">\n",
    "<meta name=\"viewport\" content=\"width=device-width, initial-scale=1.0\">\n",
    "<title>Top 10 Cryptocurrencies</title>\n",
    "<style>\n",
    "    table {\n",
    "        border-collapse: collapse;\n",
    "        width: 100%;\n",
    "        margin-top: 20px;\n",
    "    }\n",
    "    th, td {\n",
    "        border: 1px solid #dddddd;\n",
    "        text-align: left;\n",
    "        padding: 8px;\n",
    "    }\n",
    "    th {\n",
    "        background-color: #f2f2f2;\n",
    "    }\n",
    "    tr:nth-child(even) {\n",
    "        background-color: #f2f2f2;\n",
    "    }\n",
    "    tr:hover {\n",
    "        background-color: #ddd;\n",
    "    }\n",
    "</style>\n",
    "</head>\n",
    "<body>\n",
    "<table>\n",
    "    <tr>\n",
    "        <th>Rank</th>\n",
    "        <th>Cryptocurrency</th>\n",
    "        <th>Price (USD)</th>\n",
    "        <th>Market Cap (USD)</th>\n",
    "        <th>Circulating Supply</th>\n",
    "        <th>Change (24h)</th>\n",
    "    </tr>\n",
    "    <tr>\n",
    "        <td>1</td>\n",
    "        <td>Bitcoin (BTC)</td>\n",
    "        <td>$45,678.12</td>\n",
    "        <td>$859,283,294,651</td>\n",
    "        <td>18,819,362 BTC</td>\n",
    "        <td>+2.34%</td>\n",
    "    </tr>\n",
    "    <!-- Add more rows for other cryptocurrencies -->\n",
    "</table>\n",
    "</body>\n",
    "</html>"
   ]
  },
  {
   "cell_type": "markdown",
   "id": "bc60a7d7",
   "metadata": {},
   "source": [
    "### Describe a benefit of a markdown table.\n",
    "A benefit of using Markdown tables is that they provide a simple and structured way to organize and present tabular data in a clear and readable format. This makes it easier for readers to quickly grasp relationships between different data points, facilitating effective data visualization and information communication.\n",
    "\n",
    "### Describe the difference between HTML and JavaScript.\n",
    "HTML is like the blueprint of a webpage that arranges content. JavaScript is like the handyman that adds actions and makes things move on that webpage.\n",
    "\n",
    "### Describe a benefit of a table that uses JavaScript.\n",
    "A benefit of using a table with JavaScript is that it allows you to update and modify the table's content dynamically without needing to refresh the entire webpage. This means you can change data, add rows, or apply filters instantly.\n"
   ]
  }
 ],
 "metadata": {
  "kernelspec": {
   "display_name": "Python 3",
   "language": "python",
   "name": "python3"
  },
  "language_info": {
   "codemirror_mode": {
    "name": "ipython",
    "version": 3
   },
   "file_extension": ".py",
   "mimetype": "text/x-python",
   "name": "python",
   "nbconvert_exporter": "python",
   "pygments_lexer": "ipython3",
   "version": "3.11.4"
  }
 },
 "nbformat": 4,
 "nbformat_minor": 5
}
