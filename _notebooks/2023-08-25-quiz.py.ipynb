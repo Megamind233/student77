{
 "cells": [
  {
   "attachments": {},
   "cell_type": "markdown",
   "metadata": {},
   "source": [
    "---\n",
    "layout: post\n",
    "title: Quiz.py\n",
    "description: Quiz in python to test your knowledge on basic python functions\n",
    "toc: true\n",
    "comments: true\n",
    "categories: [5.A, C4.1]\n",
    "courses: { csp: {week: 1} }\n",
    "type: tangibles\n",
    "---"
   ]
  },
  {
   "cell_type": "markdown",
   "metadata": {},
   "source": [
    "## Quiz project in python\n",
    "> How to build your own quiz in python\n",
    "\n",
    "In python there are a variety of ways to code a quiz. You can use basic print statements and input functions **or** you can use for loops to make the same quiz more concise.\n",
    "\n",
    "The provided code is a basic quiz program that interacts with users. Here are the elements that make up most of the code:\n",
    "\n",
    "- `import getpass, sys`: This imports the  modules.\n",
    "\n",
    "- `def question_with_answers(prompt)`: This defines a function that prints a question, collects user input as an answer, and stores the answer\n",
    "\n",
    "- `questions = 3`: This is the total number of questions in the quiz.\n",
    "\n",
    "- `correct_answers = 0`: This variable keeps track of the amout of correct answers.\n",
    "\n",
    "- `question_list`: This list contains the questions for the quiz.\n",
    "\n",
    "- `ans_list`: This list holds the correct answers corresponding to the questions.\n",
    "\n",
    "- The `for` loop iterates over each question:\n",
    "\n",
    "  - `rsp = question_with_answers(question_list[i])`: This line asks the user a question and stores their response into a variable\n",
    "\n",
    "  - `if ans_list[i] == rsp:`: This checks if the user's response matches the correct answer.\n",
    "\n",
    "    - If the answer is correct, `correct_answers` added by one, and a success message is displayed.\n",
    "\n",
    "    - If the answer is incorrect, an print message is shown to help them know they got the question wrong\n",
    "\n",
    "- At the end code displays a completion message for the quiz and calculates the user's percentage score.\n",
    "\n",
    "\n"
   ]
  },
  {
   "cell_type": "code",
   "execution_count": 1,
   "metadata": {},
   "outputs": [
    {
     "name": "stdout",
     "output_type": "stream",
     "text": [
      "The Question is:What Command is used to get other snippets of codes other people built into your file?\n",
      "Your Answer is import\n",
      "Your Answer is Correct\n",
      "The Question is:What command is used to define a function?\n",
      "Your Answer is def\n",
      "Your Answer is Correct\n",
      "The Question is:What Command is used to add a variable into a string?\n",
      "Your Answer is f\n",
      "Your Answer is incorrect!\n",
      "Congrats you have successfully completed the quiz!\n",
      "The percentage of your test is: 66.66666666666666%\n"
     ]
    }
   ],
   "source": [
    "import getpass, sys\n",
    "#Defines a function that we can call it in future lines of code\n",
    "def question_with_answers(prompt):\n",
    "    print(\"The Question is:\" + prompt)\n",
    "    msg = input()\n",
    "    return msg\n",
    "\n",
    "\n",
    "# Variables to calculate percent at the end\n",
    "questions = 3\n",
    "correct_answers = 0\n",
    "#List of questions\n",
    "question_list = [\"What Command is used to get other snippets of codes other people built into your file?\", \"What command is used to define a function?\", \"What Command is used to add a variable into a string?\" ]\n",
    "#list of answers correlated directly with the placement of questions\n",
    "ans_list = [\"import\", \"def\", \"string concatenation\"]\n",
    "#for loop where it helps make your code more concise. It itterates through lists to check answers\n",
    "for i in range(0,3):\n",
    "    rsp = question_with_answers(question_list[i])\n",
    "    print(f\"Your Answer is {rsp}\")\n",
    "    if ans_list[i] == rsp:\n",
    "        print(\"Your Answer is Correct\")\n",
    "        correct_answers += 1\n",
    "    else:\n",
    "      print (\"Your Answer is incorrect!\")  \n",
    "\n",
    "\n",
    "#Prints that you have completed the quiz\n",
    "print(\"Congrats you have successfully completed the quiz!\")\n",
    "#calculates the percentage\n",
    "percent = int(correct_answers)/int(questions) \n",
    "percent = percent * 100\n",
    "#Prints your percentage with a message\n",
    "print(\"The percentage of your test is: \" + str(percent) + \"%\")\n",
    "\n",
    "\n",
    "\n",
    "\n"
   ]
  }
 ],
 "metadata": {
  "kernelspec": {
   "display_name": "Python 3.10.6 64-bit",
   "language": "python",
   "name": "python3"
  },
  "language_info": {
   "codemirror_mode": {
    "name": "ipython",
    "version": 3
   },
   "file_extension": ".py",
   "mimetype": "text/x-python",
   "name": "python",
   "nbconvert_exporter": "python",
   "pygments_lexer": "ipython3",
   "version": "3.11.4"
  },
  "vscode": {
   "interpreter": {
    "hash": "aee8b7b246df8f9039afb4144a1f6fd8d2ca17a180786b69acc140d282b71a49"
   }
  }
 },
 "nbformat": 4,
 "nbformat_minor": 2
}
