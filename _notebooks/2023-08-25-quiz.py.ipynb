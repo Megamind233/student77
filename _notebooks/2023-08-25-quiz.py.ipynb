{
 "cells": [
  {
   "attachments": {},
   "cell_type": "markdown",
   "metadata": {},
   "source": [
    "---\n",
    "layout: post\n",
    "title: Quiz.py\n",
    "description: Quiz in python to test your knowledge on basic python functions\n",
    "toc: true\n",
    "comments: true\n",
    "categories: [5.A, C4.1]\n",
    "courses: { csse: {week: 1}, csp: {week: 1, categories: [6.B]}, csa: {week: 1} }\n",
    "type: devops\n",
    "---"
   ]
  },
  {
   "cell_type": "code",
   "execution_count": 11,
   "metadata": {},
   "outputs": [
    {
     "name": "stdout",
     "output_type": "stream",
     "text": [
      "The Question is:What Command is used to get other snippets of codes other people built into your file?\n",
      "Your Answer is import\n",
      "Your Answer is Correct\n",
      "The Question is:What command is used to define a function?\n",
      "Your Answer is def\n",
      "Your Answer is Correct\n",
      "The Question is:What Command is used to add a variable into a string?\n",
      "Your Answer is string concatenation\n",
      "Your Answer is Correct\n",
      "Congrats you have successfully completed the quiz!\n",
      "The percentage of your test is: 100.0%\n"
     ]
    }
   ],
   "source": [
    "import getpass, sys\n",
    "\n",
    "def question_with_answers(prompt):\n",
    "    print(\"The Question is:\" + prompt)\n",
    "    msg = input()\n",
    "    return msg\n",
    "\n",
    "\n",
    "\n",
    "questions = 3\n",
    "correct_answers = 0\n",
    "\n",
    "question_list = [\"What Command is used to get other snippets of codes other people built into your file?\", \"What command is used to define a function?\", \"What Command is used to add a variable into a string?\" ]\n",
    "ans_list = [\"import\", \"def\", \"string concatenation\"]\n",
    "for i in range(0,3):\n",
    "    rsp = question_with_answers(question_list[i])\n",
    "    print(f\"Your Answer is {rsp}\")\n",
    "    if ans_list[i] == rsp:\n",
    "        print(\"Your Answer is Correct\")\n",
    "        correct_answers += 1\n",
    "    else:\n",
    "      print (\"Your Answer is incorrect!\")  \n",
    "\n",
    "\n",
    "\n",
    "print(\"Congrats you have successfully completed the quiz!\")\n",
    "percent = int(correct_answers)/int(questions) \n",
    "percent = percent * 100\n",
    "print(\"The percentage of your test is: \" + str(percent) + \"%\")\n",
    "\n",
    "\n",
    "\n",
    "\n"
   ]
  }
 ],
 "metadata": {
  "kernelspec": {
   "display_name": "Python 3.10.6 64-bit",
   "language": "python",
   "name": "python3"
  },
  "language_info": {
   "codemirror_mode": {
    "name": "ipython",
    "version": 3
   },
   "file_extension": ".py",
   "mimetype": "text/x-python",
   "name": "python",
   "nbconvert_exporter": "python",
   "pygments_lexer": "ipython3",
   "version": "3.11.4"
  },
  "vscode": {
   "interpreter": {
    "hash": "aee8b7b246df8f9039afb4144a1f6fd8d2ca17a180786b69acc140d282b71a49"
   }
  }
 },
 "nbformat": 4,
 "nbformat_minor": 2
}
