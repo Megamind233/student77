{
 "cells": [
  {
   "cell_type": "markdown",
   "id": "8ebd40d1",
   "metadata": {},
   "source": [
    "---\n",
    "layout: post\n",
    "title: Week 1 Lab Notebook Post\n",
    "description: Sum up learning targets in week one\n",
    "toc: true\n",
    "comments: true\n",
    "categories: [5.A, C4.1]\n",
    "courses: { csse: {week: 1}, csp: {week: 1, categories: [6.B]}, csa: {week: 1} }\n",
    "type: tangibles\n",
    "---"
   ]
  },
  {
   "cell_type": "markdown",
   "id": "d863fd82",
   "metadata": {},
   "source": [
    "## Week one summary (AP CSP)\n",
    "\n"
   ]
  },
  {
   "cell_type": "markdown",
   "id": "56d9b6a6",
   "metadata": {},
   "source": [
    "\n",
    "Monday Summary:\n",
    "\n",
    "During **monday**: we were able to have more time to work on our blog for the up and coming tools check. We were anticipating and were very nervous about what grade we would get. We learned that if we did everything we were supposed to we'd only get a 90% but only and only if we go above and beyong we would receive higher than a 90%. I was researching the web on how to make a blog homepage better to impress our teacher and took some basic markdown cheat sheets to make my page look more appealing. We learned that markdown is one of the simplest languages to learn to convey basic information like we did on blogs. Some markdown commands I learned during this process are:\n",
    "\n",
    "## Basic Markdown Commands\n",
    "\n",
    "1. **Headers:**\n",
    "   - `# Header 1`\n",
    "   - `## Header 2`\n",
    "   - `### Header 3`\n",
    "   - Create titles of different sizes by using one to six `#` symbols in the beginning of a line.\n",
    "\n",
    "2. **Emphasis:**\n",
    "   - `*italic*` or `_italic_`\n",
    "   - `**bold**` or `__bold__`\n",
    "   - Create italic or bold text using asterisks `*` to bold or underscores `_` to italicise.\n",
    "\n",
    "3. **Lists:**\n",
    "   - Unordered List: `- Item 1` or `* Item 1`\n",
    "   - Ordered List: `1. Item 1`\n",
    "   - Create unordered and ordered lists by starting lines with `-`, `*`, or numbers to create a list.\n",
    "\n",
    "4. **Links:**\n",
    "   - `[Link Text](URL)`\n",
    "   - Create clickable links using square brackets `[]` for the link text and parentheses `()` for the URL.\n",
    "\n",
    "5. **Images:**\n",
    "   - `![Alt Text](Image URL)`\n",
    "   - Embed images using an exclamation mark `!`, square brackets `[]` for alternate text (text describing the image), and parentheses `()` for the image URL.\n",
    "\n",
    "6. **Blockquotes:**\n",
    "   - `> Quote text`\n",
    "   - Create blockquotes using the `>` symbol in the beginning of a line.\n",
    "\n",
    "7. **Code:**\n",
    "   - Inline Code: `` `code` ``\n",
    "   - Code Block: Triple backticks (```) or indent with 4 spaces.\n",
    "\n",
    "8. **Horizontal Rule:**\n",
    "   - `---` or `***` or `___`\n",
    "   - Create horizontal lines using three or more hyphens, asterisks, or/and underscores.\n",
    "\n",
    "9. **Escape Characters:**\n",
    "   - `\\` before a special character\n",
    "   - Use backslash `\\` to escape special Markdown characters (Ex: /!).\n",
    "\n",
    "10. **Tables:**\n",
    "    - ```markdown\n",
    "      | Header 1 | Header 2 |\n",
    "      | -------- | -------- |\n",
    "      | Row 1    | Row 1    |\n",
    "      | Row 2    | Row 2    |\n",
    "      ```\n",
    "    - Create tables using pipes `|` to separate columns and hyphens `-` to define headers.\n",
    "\n",
    "11. **Task Lists:**\n",
    "    - `- [ ] Task 1` for an unchecked task\n",
    "    - `- [x] Task 2` for a checked task\n",
    "    - Create interactive lists using `- [ ]` or `- [x]`.\n",
    "\n"
   ]
  },
  {
   "cell_type": "markdown",
   "id": "9a7c3b1b",
   "metadata": {},
   "source": [
    "During the day on **Tuesday** me and my partner, sri, were finalizing our blog as we were going to present tomorrow on wednesday. As soon as I opened my macbook my make command stopped working and I could not create the local serve to show my blog site. We were stressed and were freaking out because we did not know what the problem with this was. After an hour of not being able to fix it we proceeded to go to the teacher to ask him for help. We discussed that it was best for me to leave the machine with him to help him figure out the issue that I was facing, but during my 4th period class I was exploring the issue on my own when it was working again. During the troubleshoting of that command I was not able to make any process on that day so me and my partner proceeded to call to work on it more and prepare our \"speech\". \n",
    "\n",
    "We fixed the make command issue with these following commands:\n"
   ]
  },
  {
   "cell_type": "code",
   "execution_count": null,
   "id": "c5a60313",
   "metadata": {
    "vscode": {
     "languageId": "plaintext"
    }
   },
   "outputs": [],
   "source": [
    "bundle install and bundle update"
   ]
  },
  {
   "cell_type": "markdown",
   "id": "0a2ef296",
   "metadata": {},
   "source": [
    "On wednesday we were preparing last minute stuff for our live review. After doing the live review I realized that what we did was not enough for 2 points but we got a 1.85 for changing the theme. We changed our theme to the theme \"modernist\" and we realized that it looked the best after trying ot multiple themes that were available on jekyll. We changed the theme by removing the commenting hashtag in the _config.yml file. "
   ]
  }
 ],
 "metadata": {
  "language_info": {
   "name": "python"
  }
 },
 "nbformat": 4,
 "nbformat_minor": 5
}
