{
 "cells": [
  {
   "cell_type": "markdown",
   "id": "8ebd40d1",
   "metadata": {},
   "source": [
    "---\n",
    "layout: post\n",
    "title: Week 1 Lab Notebook Post\n",
    "description: Sum up learning targets in week one\n",
    "toc: true\n",
    "comments: true\n",
    "categories: [5.A, C4.1]\n",
    "courses: { csse: {week: 1}, csp: {week: 1, categories: [6.B]}, csa: {week: 1} }\n",
    "type: devops\n",
    "---"
   ]
  },
  {
   "cell_type": "markdown",
   "id": "d863fd82",
   "metadata": {},
   "source": [
    "## Week one summary (AP CSP)\n",
    "\n"
   ]
  }
 ],
 "metadata": {
  "language_info": {
   "name": "python"
  }
 },
 "nbformat": 4,
 "nbformat_minor": 5
}
