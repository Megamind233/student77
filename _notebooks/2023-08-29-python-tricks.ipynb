{
 "cells": [
  {
   "cell_type": "markdown",
   "id": "8ebd40d1",
   "metadata": {},
   "source": [
    "---\n",
    "layout: post\n",
    "title: Python Tricks\n",
    "description: Tricks in Python\n",
    "toc: true\n",
    "comments: true\n",
    "categories: [5.A, C4.1]\n",
    "courses: { csse: {week: 1}, csp: {week: 2, categories: [6.B]}, csa: {week: 1} }\n",
    "type: tangibles\n",
    "---"
   ]
  },
  {
   "cell_type": "markdown",
   "id": "d863fd82",
   "metadata": {},
   "source": [
    "## Python tricks\n",
    "\n"
   ]
  },
  {
   "cell_type": "markdown",
   "id": "8b315f9c",
   "metadata": {},
   "source": [
    "## Wikipedia Interaction Program\n",
    "\n",
    "This program allows you to interact with Wikipedia in two ways:\n",
    "\n",
    "### Option A: Summary\n",
    "\n",
    "Choose option A by typing \"A\". Then, input a topic you're interested in. The program will fetch a summary of that topic from Wikipedia and display it.\n",
    "\n",
    "### Option B: Search\n",
    "\n",
    "Select option B by typing \"B\". Input a topic you want to search for. The program will provide you with a list of search results related to that topic on Wikipedia."
   ]
  },
  {
   "cell_type": "code",
   "execution_count": 2,
   "id": "b551ec18",
   "metadata": {},
   "outputs": [
    {
     "name": "stdout",
     "output_type": "stream",
     "text": [
      "A: summary, B: Search (Only Capital Letters)\n",
      "What would you like a summary of:\n",
      "Ye ( YAY; born Kanye Omari West  KAHN-yay; June 8, 1977) is an American rapper, singer, songwriter, record producer, and fashion designer. Born in Atlanta and raised in Chicago, West gained recognition as a producer for Roc-A-Fella Records in the early 2000s, producing singles for several prominent artists and developing a production style that heavily sampled old-school soul music. With intent on pursuing a solo career as a rapper, he released his debut studio album, The College Dropout (2004), to critical and commercial success. He founded the record label GOOD Music later that year. West explored diverse musical elements like orchestras, synthesizers, and autotune on the albums Late Registration (2005), Graduation (2007), and 808s & Heartbreak (2008). His fifth and sixth albums My Beautiful Dark Twisted Fantasy (2010) and Yeezus (2013) were also met with critical and commercial success. West further diversified his musical styles on The Life of Pablo (2016) and Ye (2018) and explored Christian and gospel music on Jesus Is King (2019). His tenth album Donda (2021) was released to commercial success and mixed critical reception. West's discography also includes the two full-length collaborative albums Watch the Throne (2011) with Jay-Z and Kids See Ghosts (2018) with Kid Cudi.\n",
      "One of the world's best-selling music artists, with over 160 million records sold, West has won 24 Grammy Awards and 75 nominations, the joint tenth-most of all time, and the joint-most Grammy awards of any rapper along with Jay-Z. Among his other awards are the Billboard Artist Achievement Award, a joint-record three Brit Awards for Best International Male Solo Artist and the Michael Jackson Video Vanguard Award. Six of West's albums were included on Rolling Stone's 2020 500 Greatest Albums of All Time list with the same publication naming him one of the 100 Greatest Songwriters of All Time. He holds the joint record (with Bob Dylan) for most albums (4) topping the annual Pazz & Jop critic poll. Time named him one of the 100 most influential people in the world in 2005 and 2015. As a fashion designer, he has collaborated with Nike, Louis Vuitton, Gap, and A.P.C. on clothing and footwear and led the Yeezy collaboration with Adidas. He is also the founder and head of the creative content company Donda.\n",
      "West's outspoken views have received significant media coverage; he has been a frequent source of controversy due to his conduct on social media and at awards shows and public settings, as well as his comments on the music and fashion industries, U.S. politics, race, and slavery. His Christian faith, high-profile marriage to Kim Kardashian, and mental health have also been topics of media attention. In 2020, West launched an unsuccessful independent presidential campaign that primarily advocated for a consistent life ethic. In 2022, he was widely condemned and lost many sponsors and partnerships—including his collaborations with Adidas, Gap, and Balenciaga—after making a series of antisemitic statements. West later publicly praised Adolf Hitler, denied the Holocaust, and identified as a Nazi.\n",
      "\n",
      "\n"
     ]
    }
   ],
   "source": [
    "import wikipedia\n",
    "\n",
    "def multiple_choice():\n",
    "    print(\"A: summary, B: Search (Only Capital Letters)\")\n",
    "    aorb = input(\"Enter your choice:\")\n",
    "    if aorb == \"A\":\n",
    "        print(\"What would you like a summary of:\")\n",
    "        topic = input(\"I would like a summary of:\")\n",
    "        print(wikipedia.summary(topic))\n",
    "    else:\n",
    "        print(\"What would you like a search of:\")\n",
    "        topic1 = input(\"I would like a search of:\")\n",
    "        print(wikipedia.search(topic1))\n",
    "\n",
    "multiple_choice()\n",
    "\n"
   ]
  },
  {
   "cell_type": "code",
   "execution_count": 1,
   "id": "57583481",
   "metadata": {},
   "outputs": [
    {
     "name": "stdout",
     "output_type": "stream",
     "text": [
      "Print test data\n",
      "[90.5, 100, 85.4, 88]\n",
      "\n",
      "Average score, long method\n",
      "90.98\n",
      "Average score, short method\n",
      "90.98\n"
     ]
    }
   ],
   "source": [
    "from typing import Union\n",
    "\n",
    "# Define types for mean function, trying to analyze input possibilities\n",
    "Number = Union[int, float]  # Number can be either int or float type\n",
    "Numbers = list[Number] # Numbers is a list of Number types\n",
    "Scores = Union[Number, Numbers] # Scores can be single or multiple \n",
    "\n",
    "def mean(scores: Scores, method: int = 1) -> float:\n",
    "    \"\"\"\n",
    "    Calculate the mean of a list of scores.\n",
    "    \n",
    "    Average and Average2 are hidden functions performing mean algorithm\n",
    "\n",
    "    If a single score is provided in scores, it is returned as the mean.\n",
    "    If a list of scores is provided, the average is calculated and returned.\n",
    "    \"\"\"\n",
    "    \n",
    "    def average(scores): \n",
    "        \"\"\"Calculate the average of a list of scores using a Python for loop with rounding.\"\"\"\n",
    "        sum = 0\n",
    "        len = 0\n",
    "        for score in scores:\n",
    "            sum += score\n",
    "            len += 1\n",
    "        return sum / len\n",
    "    \n",
    "    def average2(scores):\n",
    "        \"\"\"Calculate the average of a list of scores using the built-in sum() function with rounding.\"\"\"\n",
    "        return sum(scores) / len(scores)\n",
    "\n",
    "    # test to see if scores is  a list of numbers\n",
    "    if isinstance(scores, list):\n",
    "        if method == 1:  \n",
    "            # long method\n",
    "            result = average(scores)\n",
    "        else:\n",
    "            # built in method\n",
    "            result = average2(scores)\n",
    "        return round(result + 0.005, 2)\n",
    "    \n",
    "    return scores # case where scores is a single valu\n",
    "\n",
    "# define a list of numbers\n",
    "tests = [90.5, 100, 85.4, 88]\n",
    "\n",
    "print(\"Print test data\")\n",
    "print(tests)\n",
    "\n",
    "print()\n",
    "\n",
    "print(\"Average score, long method\")\n",
    "print(mean(tests))\n",
    "\n",
    "print(\"Average score, short method\")\n",
    "print(mean(tests, 2))"
   ]
  }
 ],
 "metadata": {
  "kernelspec": {
   "display_name": "Python 3",
   "language": "python",
   "name": "python3"
  },
  "language_info": {
   "codemirror_mode": {
    "name": "ipython",
    "version": 3
   },
   "file_extension": ".py",
   "mimetype": "text/x-python",
   "name": "python",
   "nbconvert_exporter": "python",
   "pygments_lexer": "ipython3",
   "version": "3.11.4"
  }
 },
 "nbformat": 4,
 "nbformat_minor": 5
}
