{
 "cells": [
  {
   "cell_type": "markdown",
   "metadata": {},
   "source": [
    "---\n",
    "title: Basics of Javascript\n",
    "hide: True\n",
    "description: A Tech Talk on how to use javascript\n",
    "type: ccc\n",
    "permalink: /basics/javascript\n",
    "author: Rohan Juneja\n",
    "comments: True\n",
    "courses: {csp: { week: 5 } }\n",
    "---"
   ]
  },
  {
   "cell_type": "raw",
   "metadata": {},
   "source": [
    "{% include nav_basics.html %}\n"
   ]
  },
  {
   "cell_type": "markdown",
   "metadata": {},
   "source": [
    "# Hacks\n",
    "- Write a JavaScript program that compares two variables, a and b. Log \"a is greater\" if a is greater than b, \"b is greater\" if b is greater than a, and \"both are equal\" if a and b are equal. Make sure to use if statements and console.log"
   ]
  },
  {
   "cell_type": "code",
   "execution_count": 31,
   "metadata": {
    "vscode": {
     "languageId": "javascript"
    }
   },
   "outputs": [
    {
     "data": {
      "application/javascript": "\nconsole.log(\"Conditional If/Then Statements as well as comparisoms\");\n\n// Number 1, a comparison between two of my favorite Crypto Coins\n\nlet Bitcoin = 8.0;\nlet Ethereum = 8.7;\n\nif (Bitcoin > Ethereum) {\n    console.log(\"Bitcoin is a better crypto coin\");\n} else if (Bitcoin === Ethereum) {\n    console.log(\"Both coins are equally rated\");\n} else {\n    console.log(\"Etheruem the better coin\");\n}\n\n// Number 2, a comparison between two of my ideas for passion projects\n\n\nlet eCommerseWebsite = 8.1;\nlet cryptoTxChecker = 8.7;\n\nif ( eCommerseWebsite > strangerThings) {\n    console.log(\"ecommerse website is a better choice\");\n} else if (eCommerseWebsite === cryptoTxChecker) {\n    console.log(\"Both choices are equally rated\");\n} else {\n    console.log(\"cryptotxchecker is a better project\");\n}\n\n",
      "text/plain": [
       "<IPython.core.display.Javascript object>"
      ]
     },
     "metadata": {},
     "output_type": "display_data"
    }
   ],
   "source": [
    "%%js\n",
    "\n",
    "console.log(\"Conditional If/Then Statements as well as comparisoms\");\n",
    "\n",
    "// Number 1, a comparison between two of my favorite Crypto Coins\n",
    "\n",
    "let Bitcoin = 8.0;\n",
    "let Ethereum = 8.7;\n",
    "\n",
    "if (Bitcoin > Ethereum) {\n",
    "    console.log(\"Bitcoin is a better crypto coin\");\n",
    "} else if (Bitcoin === Ethereum) {\n",
    "    console.log(\"Both coins are equally rated\");\n",
    "} else {\n",
    "    console.log(\"Etheruem the better coin\");\n",
    "}\n",
    "\n",
    "// Number 2, a comparison between two of my ideas for passion projects\n",
    "\n",
    "\n",
    "let eCommerseWebsite = 8.1;\n",
    "let cryptoTxChecker = 8.7;\n",
    "\n",
    "if ( eCommerseWebsite > strangerThings) {\n",
    "    console.log(\"ecommerse website is a better choice\");\n",
    "} else if (eCommerseWebsite === cryptoTxChecker) {\n",
    "    console.log(\"Both choices are equally rated\");\n",
    "} else {\n",
    "    console.log(\"cryptotxchecker is a better project\");\n",
    "}\n",
    "\n"
   ]
  }
 ],
 "metadata": {
  "kernelspec": {
   "display_name": "Python 3",
   "language": "python",
   "name": "python3"
  },
  "language_info": {
   "codemirror_mode": {
    "name": "ipython",
    "version": 3
   },
   "file_extension": ".py",
   "mimetype": "text/x-python",
   "name": "python",
   "nbconvert_exporter": "python",
   "pygments_lexer": "ipython3",
   "version": "3.9.12"
  },
  "orig_nbformat": 4
 },
 "nbformat": 4,
 "nbformat_minor": 2
}
