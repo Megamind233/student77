{
 "cells": [
  {
   "cell_type": "markdown",
   "id": "8ebd40d1",
   "metadata": {},
   "source": [
    "---\n",
    "layout: post\n",
    "title: Week 0 Lab Notebook Post\n",
    "description: Sum up learning targets in week one\n",
    "toc: true\n",
    "comments: true\n",
    "categories: [5.A, C4.1]\n",
    "courses: { csse: {week: 1}, csp: {week: 0, categories: [6.B]}, csa: {week: 1} }\n",
    "type: tangibles\n",
    "---"
   ]
  },
  {
   "cell_type": "markdown",
   "id": "d863fd82",
   "metadata": {},
   "source": [
    "## Week zero summary (AP CSP)\n",
    "\n"
   ]
  },
  {
   "cell_type": "markdown",
   "id": "447b888c",
   "metadata": {},
   "source": [
    "To briefly summarize everything that was done in Week 0, I'll discuss approximately everything we were expected to complete. We started off the week by learning what the course is about, and some of the fundamentals. These fundamentls include about how we were told to collaborate with a partner, and make sure that we don't do it alone. We also learned additional information about this class, like the fact that we will be studying a Big Idea each week, that GitHub (GH) Pages should be used as a project/lab notebook, and that this class will have PBL Tech Talks and College Board Test Prep. The task for this week was to install VScode, succesfully set up our website and github pages, and make sure everything is running smoothly."
   ]
  }
 ],
 "metadata": {
  "kernelspec": {
   "display_name": "Python 3",
   "language": "python",
   "name": "python3"
  },
  "language_info": {
   "name": "python",
   "version": "3.11.4"
  }
 },
 "nbformat": 4,
 "nbformat_minor": 5
}
