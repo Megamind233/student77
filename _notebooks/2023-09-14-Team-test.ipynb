{
 "cells": [
  {
   "cell_type": "markdown",
   "id": "eb8dcc2b",
   "metadata": {},
   "source": [
    "---\n",
    "layout: post\n",
    "title: Team Test\n",
    "description: Team Test explanation\n",
    "toc: True\n",
    "comments: False\n",
    "categories: ['5.A', 'C4.1']\n",
    "courses: {'csse': {'week': 1}, 'csp': {'week': 4, 'categories': ['6.B']}, 'csa': {'week': 1}}\n",
    "type: tangibles\n",
    "---"
   ]
  },
  {
   "cell_type": "markdown",
   "id": "dfba7004",
   "metadata": {},
   "source": [
    "## Program with Output"
   ]
  },
  {
   "cell_type": "code",
   "execution_count": 1,
   "id": "509b7565",
   "metadata": {},
   "outputs": [
    {
     "name": "stdout",
     "output_type": "stream",
     "text": [
      "hello world\n"
     ]
    }
   ],
   "source": [
    "print(\"hello world\")"
   ]
  },
  {
   "cell_type": "markdown",
   "id": "26892d17",
   "metadata": {},
   "source": [
    "## Program with Input --> Output"
   ]
  },
  {
   "cell_type": "code",
   "execution_count": 2,
   "id": "558d3170",
   "metadata": {},
   "outputs": [
    {
     "name": "stdout",
     "output_type": "stream",
     "text": [
      "What is your name?\n",
      "Your name is saathvik\n"
     ]
    }
   ],
   "source": [
    "print(\"What is your name?\")\n",
    "name = input()\n",
    "print(f\"Your name is {name}\")"
   ]
  },
  {
   "cell_type": "markdown",
   "id": "4c6e43d4",
   "metadata": {},
   "source": [
    "## Program with a List"
   ]
  },
  {
   "cell_type": "code",
   "execution_count": 3,
   "id": "37ad5538",
   "metadata": {},
   "outputs": [
    {
     "name": "stdout",
     "output_type": "stream",
     "text": [
      "['cheeta', 'elephant', 'dog', 'cat', 'chicken']\n"
     ]
    }
   ],
   "source": [
    "animals = [\"cheeta\", \"elephant\", \"dog\", \"cat\", \"chicken\"]\n",
    "\n",
    "print(animals)"
   ]
  },
  {
   "cell_type": "markdown",
   "id": "d31e86da",
   "metadata": {},
   "source": [
    "## Program with a Dictionary"
   ]
  },
  {
   "cell_type": "code",
   "execution_count": 6,
   "id": "844d5b72",
   "metadata": {},
   "outputs": [
    {
     "name": "stdout",
     "output_type": "stream",
     "text": [
      "{'first_name': 'saathvik', 'last_name': 'Gampa', 'age': 'fifteen', 'school': 'DNHS'}\n"
     ]
    }
   ],
   "source": [
    "info = {\n",
    "    \"first_name\" : \"saathvik\",\n",
    "    \"last_name\" : \"Gampa\",\n",
    "    \"age\" : \"fifteen\",\n",
    "    \"school\" : \"DNHS\"\n",
    "}\n",
    "\n",
    "print(info)"
   ]
  },
  {
   "cell_type": "markdown",
   "id": "4e35397f",
   "metadata": {},
   "source": [
    "## Program with an iteration"
   ]
  },
  {
   "cell_type": "code",
   "execution_count": 15,
   "id": "0b910cf9",
   "metadata": {},
   "outputs": [
    {
     "name": "stdout",
     "output_type": "stream",
     "text": [
      "saathvik\n",
      "Gampa\n",
      "fifteen\n",
      "DNHS\n"
     ]
    }
   ],
   "source": [
    "info = {\n",
    "    \"first_name\" : \"saathvik\",\n",
    "    \"last_name\" : \"Gampa\",\n",
    "    \"age\" : \"fifteen\",\n",
    "    \"school\" : \"DNHS\"\n",
    "}\n",
    "\n",
    "## For Loop to iterate through keys and values\n",
    "\n",
    "for i in info:\n",
    "    number = str(number)\n",
    "    value = info[i]\n",
    "    print(value)\n"
   ]
  },
  {
   "cell_type": "markdown",
   "id": "ee418e58",
   "metadata": {},
   "source": [
    "## Program with a mathematical function"
   ]
  },
  {
   "cell_type": "code",
   "execution_count": null,
   "id": "f1b1d835",
   "metadata": {},
   "outputs": [],
   "source": [
    "print(\"How much points did you get on your test?\")\n",
    "score = input()\n"
   ]
  },
  {
   "cell_type": "markdown",
   "id": "2705378d",
   "metadata": {},
   "source": [
    "## Final Project Implementing all of the above!\n",
    "### Recipe book manager\n"
   ]
  },
  {
   "cell_type": "code",
   "execution_count": null,
   "id": "81e27b06",
   "metadata": {},
   "outputs": [],
   "source": []
  },
  {
   "cell_type": "code",
   "execution_count": null,
   "id": "eb617905",
   "metadata": {},
   "outputs": [
    {
     "name": "stdout",
     "output_type": "stream",
     "text": [
      "\n",
      "Welcome to the Recipe Book Manager\n",
      "Select your action\n",
      "A: Add a recipe \n",
      "B. View a Recipe \n",
      "C. Delete a Recipe \n",
      "D. Exit\n"
     ]
    },
    {
     "name": "stdout",
     "output_type": "stream",
     "text": [
      "Your Choice:  A\n",
      "Enter the name of the recipe:  apple\n",
      "Add an ingredient (or type 'done' to finish):  idk\n",
      "Add an ingredient (or type 'done' to finish):  idk\n",
      "Add an ingredient (or type 'done' to finish):  idk\n",
      "Add an ingredient (or type 'done' to finish):  done\n",
      "Enter the process/instructions for the recipe (Type 'done' to finish):  cap\n",
      "Enter the process/instructions for the recipe (Type 'done' to finish):  cap\n",
      "Enter the process/instructions for the recipe (Type 'done' to finish):  done\n"
     ]
    },
    {
     "name": "stdout",
     "output_type": "stream",
     "text": [
      "Recipe added successfully!\n",
      "Recipe Name: apple\n",
      "\n",
      "Ingredients:\n",
      "- idk\n",
      "- idk\n",
      "- idk\n",
      "\n",
      "Instructions:\n",
      "- cap\n",
      "- cap\n",
      "\n",
      "Welcome to the Recipe Book Manager\n",
      "Select your action\n",
      "A: Add a recipe \n",
      "B. View a Recipe \n",
      "C. Delete a Recipe \n",
      "D. Exit\n"
     ]
    },
    {
     "name": "stdout",
     "output_type": "stream",
     "text": [
      "Your Choice:  b\n",
      "Enter the name of the recipe you want to view:  apple\n"
     ]
    },
    {
     "name": "stdout",
     "output_type": "stream",
     "text": [
      "Recipe Name: apple\n",
      "\n",
      "Ingredients:\n",
      "- idk\n",
      "- idk\n",
      "- idk\n",
      "\n",
      "Instructions:\n",
      "- cap\n",
      "- cap\n",
      "\n",
      "Welcome to the Recipe Book Manager\n",
      "Select your action\n",
      "A: Add a recipe \n",
      "B. View a Recipe \n",
      "C. Delete a Recipe \n",
      "D. Exit\n"
     ]
    },
    {
     "name": "stdout",
     "output_type": "stream",
     "text": [
      "Your Choice:  c\n",
      "Would you like to Edit (E) or Delete (D) a recipe?  D\n",
      "Enter the name of the recipe you want to delete:  apple\n"
     ]
    },
    {
     "name": "stdout",
     "output_type": "stream",
     "text": [
      "Recipe deleted successfully!\n",
      "\n",
      "Welcome to the Recipe Book Manager\n",
      "Select your action\n",
      "A: Add a recipe \n",
      "B. View a Recipe \n",
      "C. Delete a Recipe \n",
      "D. Exit\n"
     ]
    },
    {
     "name": "stdout",
     "output_type": "stream",
     "text": [
      "Your Choice:  b\n",
      "Enter the name of the recipe you want to view:  apple\n"
     ]
    },
    {
     "name": "stdout",
     "output_type": "stream",
     "text": [
      "Recipe not found!\n",
      "\n",
      "Welcome to the Recipe Book Manager\n",
      "Select your action\n",
      "A: Add a recipe \n",
      "B. View a Recipe \n",
      "C. Delete a Recipe \n",
      "D. Exit\n"
     ]
    }
   ],
   "source": [
    "class Recipe:\n",
    "    def __init__(self, name, ingredients, instructions):\n",
    "        self.name = name\n",
    "        self.ingredients = ingredients\n",
    "        self.instructions = instructions\n",
    "\n",
    "    def display(self):\n",
    "        print(f\"Recipe Name: {self.name}\")\n",
    "        print(\"\\nIngredients:\")\n",
    "        for ingredient in self.ingredients:\n",
    "            print(f\"- {ingredient}\")\n",
    "        print(\"\\nInstructions:\")\n",
    "        for instruction in self.instructions:\n",
    "            print(f\"- {instruction}\")\n",
    "\n",
    "def find_recipe(name, recipes):\n",
    "    for recipe in recipes:\n",
    "        if recipe.name.lower() == name.lower():\n",
    "            return recipe\n",
    "    return None\n",
    "\n",
    "def delete_recipe(name, recipes):\n",
    "    for index, recipe in enumerate(recipes):\n",
    "        if recipe.name.lower() == name.lower():\n",
    "            del recipes[index]\n",
    "            return True\n",
    "    return False\n",
    "\n",
    "recipes = []\n",
    "\n",
    "while True:\n",
    "    print(\"\\nWelcome to the Recipe Book Manager\")\n",
    "    print(\"Select your action\")\n",
    "    print(\"A: Add a recipe \\nB. View a Recipe \\nC. Delete a Recipe \\nD. Exit\")\n",
    "\n",
    "    choice = input(\"Your Choice: \").upper()\n",
    "\n",
    "    if choice == \"A\":\n",
    "        recipe_name = input(\"Enter the name of the recipe: \")\n",
    "\n",
    "        ingredients = []\n",
    "        while True:\n",
    "            ingredient = input(\"Add an ingredient (or type 'done' to finish): \")\n",
    "            if ingredient.lower() == 'done':\n",
    "                break\n",
    "            ingredients.append(ingredient)\n",
    "\n",
    "        instructions = []\n",
    "        while True:\n",
    "            instruction = input(\"Enter the process/instructions for the recipe (Type 'done' to finish): \")\n",
    "            if instruction.lower() == \"done\":\n",
    "                break\n",
    "            instructions.append(instruction)\n",
    "\n",
    "        new_recipe = Recipe(recipe_name, ingredients, instructions)\n",
    "        recipes.append(new_recipe)\n",
    "        print(\"Recipe added successfully!\")\n",
    "        new_recipe.display()\n",
    "\n",
    "    elif choice == \"B\":\n",
    "        recipe_name = input(\"Enter the name of the recipe you want to view: \")\n",
    "        recipe = find_recipe(recipe_name, recipes)\n",
    "        if recipe:\n",
    "            recipe.display()\n",
    "        else:\n",
    "            print(\"Recipe not found!\")\n",
    "\n",
    "    elif choice == \"C\":\n",
    "        action = input(\"Would you like to Edit (E) or Delete (D) a recipe? \").upper()\n",
    "\n",
    "        if action == \"D\":\n",
    "            recipe_name = input(\"Enter the name of the recipe you want to delete: \")\n",
    "            if delete_recipe(recipe_name, recipes):\n",
    "                print(\"Recipe deleted successfully!\")\n",
    "            else:\n",
    "                print(\"Recipe not found!\")\n",
    "\n",
    "    elif choice == \"D\":\n",
    "        print(\"Goodbye!\")\n",
    "        break\n"
   ]
  },
  {
   "cell_type": "code",
   "execution_count": null,
   "id": "bc71491a-8f5c-43ce-b0d9-831a04f36629",
   "metadata": {},
   "outputs": [],
   "source": []
  }
 ],
 "metadata": {
  "kernelspec": {
   "display_name": "Python 3 (ipykernel)",
   "language": "python",
   "name": "python3"
  },
  "language_info": {
   "codemirror_mode": {
    "name": "ipython",
    "version": 3
   },
   "file_extension": ".py",
   "mimetype": "text/x-python",
   "name": "python",
   "nbconvert_exporter": "python",
   "pygments_lexer": "ipython3",
   "version": "3.11.5"
  }
 },
 "nbformat": 4,
 "nbformat_minor": 5
}
