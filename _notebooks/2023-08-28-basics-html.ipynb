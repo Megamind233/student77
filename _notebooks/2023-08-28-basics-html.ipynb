{
 "cells": [
  {
   "cell_type": "markdown",
   "metadata": {},
   "source": [
    "---\n",
    "layout: post\n",
    "hide: True\n",
    "title: Basics of HTML Guide\n",
    "description: An introduction to basic HTML, and resources to learn more.\n",
    "type: ccc\n",
    "permalink: /basics/html\n",
    "author: Rohan Juneja\n",
    "comments: True\n",
    "courses: {csp: { week: 5 } }\n",
    "---"
   ]
  },
  {
   "cell_type": "raw",
   "metadata": {},
   "source": [
    "{% include nav_basics.html %}\n"
   ]
  },
  {
   "cell_type": "markdown",
   "metadata": {},
   "source": [
    "# HTML Hacks\n",
    "Below is a wireframe for an HTML element you will create. A wireframe is a rough visual representation of HTML elements on a page and isn't necessarily to scale or have the exact styling that the final HTML will have. Using the syntax above, try to create an HTML snippet that corresponds to the below wireframe. \n",
    "\n",
    "\n",
    "<br>\n",
    "The \"a tags\" can contain any links that you want\n"
   ]
  },
  {
   "cell_type": "code",
   "execution_count": 4,
   "metadata": {
    "vscode": {
     "languageId": "html"
    }
   },
   "outputs": [
    {
     "data": {
      "text/html": [
       "<div>\n",
       "    <t>About Myself</t>\n",
       "    <p>Hi Im Saathvik Gampa, an aspiring computer science developer! I am 15 years old and go to Del Norte High. I am currently in my Sophomore year in high school challenging myself with 3 AP courses. Here are more facts about me:</p>\n",
       "    <strong>Here is my github if you want to see what I'm working on so far!</strong>\n",
       "    <a href=\"https://github.com/sgtech08\">\n",
       "        <button>GitHub</button>\n",
       "    </a>\n",
       "</div>\n",
       "\n",
       "<div>\n",
       "    <h3>Here are my passions</h3>\n",
       "    <a href = \"https://www.google.com/search?q=crypto+p&sourceid=chrome&ie=UTF-8\"> Trading Crypto</a>\n",
       "    <h3>Here is my instagram</h3>\n",
       "    <a href = \"https://www.instagram.com/saathvikg08/\">Instagram</a>\n",
       "    <p>Right now my idea of my passion project is going to be a crypto niche with some sneakers and watches incorporated. If I can learn how, I would like to do a website where you can place orders with crypto and it validates the transaction. Later I get the notification that a order has arrived to purchase their items from my supplier and ship it out to them.</p>\n",
       "</div>\n"
      ],
      "text/plain": [
       "<IPython.core.display.HTML object>"
      ]
     },
     "metadata": {},
     "output_type": "display_data"
    }
   ],
   "source": [
    "%%html\n",
    "<div>\n",
    "    <t>About Myself</t>\n",
    "    <p>Hi Im Saathvik Gampa, an aspiring computer science developer! I am 15 years old and go to Del Norte High. I am currently in my Sophomore year in high school challenging myself with 3 AP courses. Here are more facts about me:</p>\n",
    "    <strong>Here is my github if you want to see what I'm working on so far!</strong>\n",
    "    <a href=\"https://github.com/sgtech08\">\n",
    "        <button>GitHub</button>\n",
    "    </a>\n",
    "</div>\n",
    "<br>\n",
    "<br>\n",
    "<div>\n",
    "    <h3>Here are my passions</h3>\n",
    "    <a href = \"https://www.google.com/search?q=crypto+p&sourceid=chrome&ie=UTF-8\"> Trading Crypto</a>\n",
    "    <h3>Here is my instagram</h3>\n",
    "    <a href = \"https://www.instagram.com/saathvikg08/\">Instagram</a>\n",
    "    <p>Right now my idea of my passion project is going to be a crypto niche with some sneakers and watches incorporated. If I can learn how, I would like to do a website where you can place orders with crypto and it validates the transaction. Later I get the notification that a order has arrived to purchase their items from my supplier and ship it out to them.</p>\n",
    "</div>\n"
   ]
  }
 ],
 "metadata": {
  "kernelspec": {
   "display_name": "Python 3",
   "language": "python",
   "name": "python3"
  },
  "language_info": {
   "codemirror_mode": {
    "name": "ipython",
    "version": 3
   },
   "file_extension": ".py",
   "mimetype": "text/x-python",
   "name": "python",
   "nbconvert_exporter": "python",
   "pygments_lexer": "ipython3",
   "version": "3.11.4"
  },
  "orig_nbformat": 4
 },
 "nbformat": 4,
 "nbformat_minor": 2
}
