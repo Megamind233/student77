{
 "cells": [
  {
   "cell_type": "markdown",
   "id": "8ebd40d1",
   "metadata": {},
   "source": [
    "---\n",
    "layout: post\n",
    "title: Share and Pair Review Ticket\n",
    "description: A page to help me and my partner outline our thoughts while presenting our acheivements through sprint one with links descriptions and code cells!.\n",
    "toc: True\n",
    "comments: False\n",
    "categories: ['5.A', 'C4.1']\n",
    "courses: {'csse': {'week': 1}, 'csp': {'week': 3, 'categories': ['6.B']}, 'csa': {'week': 1}}\n",
    "type: tangibles\n",
    "---"
   ]
  },
  {
   "cell_type": "markdown",
   "id": "ff090b3d",
   "metadata": {},
   "source": [
    "## JS Itunes API, JS Input, JS Output w/jquery, JS Output w/API.\n",
    "\n",
    "### JS Grade Average Calculator (JS Input)\n",
    "\n",
    "#### Explaining Functions and what they do!\n",
    "1. newInputLine(index): This function creates a new input box for scores, labels it, and sets it up to receive numeric input. It also handles setting the focus on the new input.\n",
    "2. calculator(event): This function calculates the total, count, and average of entered scores when the \"Tab\" or \"Enter\" key is pressed. It updates the webpage with these values and adds a new input box if all previous scores are valid numeric values.\n",
    "3. window.onload: This event ensures the first input box is created when the webpage loads, allowing users to start entering scores.\n",
    "\n",
    "#### Link to Project\n",
    "[JavaScript Calculator For Grades](https://sgtech08.github.io/student//5.a/c4.1/2023/08/23/calc_IPYNB_2_.html)\n",
    "\n",
    "\n",
    "### Crypto Price Table with Market Ciruculation (JS Output w/jquery)\n",
    "\n",
    "## Cryptocurrency Data Table\n",
    "\n",
    "This Markdown code snippet represents an HTML table used to display information about the top 10 cryptocurrencies. Here's a breakdown of its structure:\n",
    "\n",
    "- The `<table>` tag starts the table.\n",
    "- Inside, there's a `<thead>` section for column headers defined using `<th>` tags.\n",
    "- The `</thead>` tag closes the header section.\n",
    "- The `<tbody>` section contains data rows with each row enclosed in `<tr>` tags.\n",
    "- In each data row, you use `<td>` tags for actual data cells.\n",
    "- Finally, the `</tbody>` and `</table>` tags close the table.\n",
    "\n",
    "This format helps organize and to present cryptocurrency prices and data neatly on a blog like mine.\n",
    "\n",
    "[Crypto Currency Table Using JS Output/jquery](https://sgtech08.github.io/student//5.a/c4.1/2023/08/30/Table-Crypto_IPYNB_2_.html)\n"
   ]
  }
 ],
 "metadata": {
  "kernelspec": {
   "display_name": "Python 3",
   "language": "python",
   "name": "python3"
  },
  "language_info": {
   "name": "python",
   "version": "3.11.4"
  }
 },
 "nbformat": 4,
 "nbformat_minor": 5
}
