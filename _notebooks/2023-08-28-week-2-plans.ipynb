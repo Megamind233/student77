{
 "cells": [
  {
   "cell_type": "markdown",
   "id": "eb8dcc2b",
   "metadata": {},
   "source": [
    "---\n",
    "layout: post\n",
    "title: Week 2 Plans\n",
    "description: Plans for the second week of CSP\n",
    "toc: true\n",
    "comments: true\n",
    "categories: [5.A, C4.1]\n",
    "courses: { csp: {week: 2} }\n",
    "type: plans\n",
    "---"
   ]
  },
  {
   "cell_type": "markdown",
   "id": "d8ed7080",
   "metadata": {},
   "source": [
    "1. Make a Lab notebook for each week so far. Remember to do have a detailed explanation on each day of the week. \n",
    "2. Get  my github.io public site running.  This will work after GitHub sync.\n",
    "3. Compare student template from teacher to our current blog site\n",
    "4. Work on revising my IPYNB file(s) and add in my required Hacks. Explain each command for my \"hacks\".\n",
    "5. Revise Home Page to only be a Lab Notebook Cover sheet,\n",
    "6. Work on adding my projects on to the hacks section of my lab notebook"
   ]
  }
 ],
 "metadata": {
  "kernelspec": {
   "display_name": "Python 3 (ipykernel)",
   "language": "python",
   "name": "python3"
  },
  "language_info": {
   "codemirror_mode": {
    "name": "ipython",
    "version": 3
   },
   "file_extension": ".py",
   "mimetype": "text/x-python",
   "name": "python",
   "nbconvert_exporter": "python",
   "pygments_lexer": "ipython3",
   "version": "3.11.4"
  }
 },
 "nbformat": 4,
 "nbformat_minor": 5
}
